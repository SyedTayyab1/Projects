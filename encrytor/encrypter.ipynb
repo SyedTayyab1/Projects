{
 "cells": [
  {
   "cell_type": "markdown",
   "id": "7dac29e9-2420-4fd5-b9b1-32afb6e7de65",
   "metadata": {},
   "source": [
    "coding section"
   ]
  },
  {
   "cell_type": "code",
   "execution_count": 3,
   "id": "d5bbe03a-9376-44e0-919c-76973c1fe152",
   "metadata": {},
   "outputs": [
    {
     "name": "stdin",
     "output_type": "stream",
     "text": [
      "Enter c for Coding, D for decoding , i for developer info, and q for Quit c\n",
      "Enter The Message You Want to Encrypt! \n",
      " tayyab is my name\n",
      "\n",
      "Enter any key For Encryption\n",
      " 4\n"
     ]
    },
    {
     "name": "stdout",
     "output_type": "stream",
     "text": [
      "SwjvayyabtSwjv si ym QBFyamenQBFy\n"
     ]
    },
    {
     "name": "stdin",
     "output_type": "stream",
     "text": [
      "Enter c for Coding, D for decoding , i for developer info, and q for Quit d\n",
      "Enter The Message You Want to decrypt! \n",
      " SwjvayyabtSwjv si ym QBFyamenQBFy\n",
      "\n",
      "Enter the key that was selected during Encryption\n",
      " 4\n"
     ]
    },
    {
     "name": "stdout",
     "output_type": "stream",
     "text": [
      "tayyab is my name\n"
     ]
    },
    {
     "name": "stdin",
     "output_type": "stream",
     "text": [
      "Enter c for Coding, D for decoding , i for developer info, and q for Quit i\n"
     ]
    },
    {
     "name": "stdout",
     "output_type": "stream",
     "text": [
      "\n",
      "    Designed and Programmed by Syed Tayyab Raza Tabassam\n",
      "    This is a demo project in Cybersecurity for Data Science.\n",
      "    \n",
      "    Features:\n",
      "    - Encrypts messages with a customizable key.\n",
      "    - Decrypts previously encrypted messages using the same key.\n",
      "    \n"
     ]
    },
    {
     "name": "stdin",
     "output_type": "stream",
     "text": [
      "Enter c for Coding, D for decoding , i for developer info, and q for Quit q\n"
     ]
    },
    {
     "name": "stdout",
     "output_type": "stream",
     "text": [
      "Warning!\n"
     ]
    },
    {
     "name": "stdin",
     "output_type": "stream",
     "text": [
      "You Selected To Quit Are You Sure You Wnat To Quit? y/n y\n"
     ]
    },
    {
     "name": "stdout",
     "output_type": "stream",
     "text": [
      "Program Terminated Successfully........\n"
     ]
    }
   ],
   "source": [
    "import random\n",
    "import string\n",
    "\n",
    "def developer():\n",
    "    \"\"\"\n",
    "    Designed and Programmed by Syed Tayyab Raza Tabassam\n",
    "    This is a demo project in Cybersecurity for Data Science.\n",
    "    \n",
    "    Features:\n",
    "    - Encrypts messages with a customizable key.\n",
    "    - Decrypts previously encrypted messages using the same key.\n",
    "    \"\"\"\n",
    "\n",
    "\n",
    "\n",
    "\n",
    "flag=True\n",
    "while flag==True:\n",
    "    msg=\"\"\n",
    "    key=0\n",
    "    user=input(\"Enter c for Coding, D for decoding , i for developer info, and q for Quit\")\n",
    "    if user==\"q\":\n",
    "        print(\"Warning!\")\n",
    "        tt=input(\"You Selected To Quit Are You Sure You Wnat To Quit? y/n\")\n",
    "        if tt==\"y\": \n",
    "            flag=False\n",
    "            print(\"Program Terminated Successfully........\")\n",
    "        else:\n",
    "            pass\n",
    "    if user==\"c\":\n",
    "     msg=input(\"Enter The Message You Want to Encrypt! \\n\")\n",
    "     key=int(input(\"\\nEnter any key For Encryption\\n\"))\n",
    "    elif user==\"d\":\n",
    "     msg=input(\"Enter The Message You Want to decrypt! \\n\")\n",
    "     key=int(input(\"\\nEnter the key that was selected during Encryption\\n\"))\n",
    "    st=string.ascii_letters\n",
    "    words=msg.split(\" \")\n",
    "    coded=[]\n",
    "    decoded=[]\n",
    "    if user==\"c\":\n",
    "        coding=True\n",
    "        if(coding):\n",
    "            for word in words:\n",
    "                if len(word)>=3:\n",
    "                    temp=word[1:]+word[0]\n",
    "                    r_chr=\"\".join(random.choice(st) for i in range(key))\n",
    "                    temp=r_chr+temp+r_chr\n",
    "                    coded.append(temp)\n",
    "                else:\n",
    "                    rst=word[::-1]\n",
    "                    coded.append(rst)\n",
    "        codded_msg=\" \".join(c for c in coded)\n",
    "        print(codded_msg)\n",
    "    \n",
    "    \n",
    "    # decoding process\n",
    "    \n",
    "    if user==\"d\":\n",
    "        decoding=True\n",
    "        d_key=key\n",
    "        if(decoding):\n",
    "            for word in words:\n",
    "                if len(word)>=3:\n",
    "                    temp=word[d_key:-d_key]\n",
    "                    temp=temp[-1]+ temp[0:-1]\n",
    "                    decoded.append(temp)\n",
    "                 \n",
    "                else:\n",
    "                    rev=word[::-1]\n",
    "                    decoded.append(rev)\n",
    "        decodded_msg=\" \".join(d for d in decoded)\n",
    "        print(decodded_msg)               \n",
    "                    \n",
    "         # developer\n",
    "              \n",
    "    if user==\"i\":\n",
    "        print(developer.__doc__)\n",
    "         \n",
    "        \n",
    "        "
   ]
  },
  {
   "cell_type": "code",
   "execution_count": null,
   "id": "e4caba0a-d5ce-4995-8fb1-25210b11e5e9",
   "metadata": {},
   "outputs": [],
   "source": []
  }
 ],
 "metadata": {
  "kernelspec": {
   "display_name": "Python 3 (ipykernel)",
   "language": "python",
   "name": "python3"
  },
  "language_info": {
   "codemirror_mode": {
    "name": "ipython",
    "version": 3
   },
   "file_extension": ".py",
   "mimetype": "text/x-python",
   "name": "python",
   "nbconvert_exporter": "python",
   "pygments_lexer": "ipython3",
   "version": "3.12.7"
  }
 },
 "nbformat": 4,
 "nbformat_minor": 5
}
